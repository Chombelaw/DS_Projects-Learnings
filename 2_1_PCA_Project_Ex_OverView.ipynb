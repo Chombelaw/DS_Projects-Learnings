{
 "cells": [
  {
   "cell_type": "markdown",
   "metadata": {
    "deletable": true,
    "editable": true
   },
   "source": [
    "<a href='http://www.scienceacademy.ca'> <img style=\"float: left;height:70px\" src=\"Log_SA.jpeg\"></a>"
   ]
  },
  {
   "cell_type": "markdown",
   "metadata": {
    "deletable": true,
    "editable": true
   },
   "source": [
    "# Principal Component Analysis with scikit-learn in Python -- Project Overview\n",
    "\n",
    "Let's use the the famous IRIS data set for this project. The iris data have only 4 features and may not be an ideal dataset for PCA. However, our goal is to apply and practice the skills that we have learned in the previous section. \n",
    "\n",
    "**Let's import some important libraries and load the dataset first!**"
   ]
  },
  {
   "cell_type": "code",
   "execution_count": 66,
   "metadata": {
    "collapsed": true,
    "deletable": true,
    "editable": true
   },
   "outputs": [],
   "source": [
    "import matplotlib.pyplot as plt\n",
    "import pandas as pd\n",
    "import numpy as np\n",
    "import seaborn as sns\n",
    "%matplotlib inline"
   ]
  },
  {
   "cell_type": "markdown",
   "metadata": {
    "deletable": true,
    "editable": true
   },
   "source": [
    "**Let's load the iris dataset**"
   ]
  },
  {
   "cell_type": "code",
   "execution_count": 67,
   "metadata": {
    "collapsed": true,
    "deletable": true,
    "editable": true
   },
   "outputs": [],
   "source": [
    "from sklearn.datasets import load_iris\n",
    "iris = load_iris()"
   ]
  },
  {
   "cell_type": "code",
   "execution_count": 3,
   "metadata": {
    "collapsed": false,
    "deletable": true,
    "editable": true
   },
   "outputs": [
    {
     "data": {
      "text/plain": [
       "dict_keys(['target_names', 'feature_names', 'data', 'target', 'DESCR'])"
      ]
     },
     "execution_count": 3,
     "metadata": {},
     "output_type": "execute_result"
    }
   ],
   "source": [
    "iris.keys()"
   ]
  },
  {
   "cell_type": "markdown",
   "metadata": {
    "deletable": true,
    "editable": true
   },
   "source": [
    "**Create the dataframe and output the head of the data, use features_names as columns**"
   ]
  },
  {
   "cell_type": "code",
   "execution_count": 68,
   "metadata": {
    "collapsed": true,
    "deletable": true,
    "editable": true
   },
   "outputs": [],
   "source": [
    "#Code here please\n",
    "df = pd.DataFrame(data = iris['data'], columns=iris['feature_names'])"
   ]
  },
  {
   "cell_type": "code",
   "execution_count": 5,
   "metadata": {
    "collapsed": false,
    "deletable": true,
    "editable": true
   },
   "outputs": [
    {
     "data": {
      "text/html": [
       "<div>\n",
       "<style>\n",
       "    .dataframe thead tr:only-child th {\n",
       "        text-align: right;\n",
       "    }\n",
       "\n",
       "    .dataframe thead th {\n",
       "        text-align: left;\n",
       "    }\n",
       "\n",
       "    .dataframe tbody tr th {\n",
       "        vertical-align: top;\n",
       "    }\n",
       "</style>\n",
       "<table border=\"1\" class=\"dataframe\">\n",
       "  <thead>\n",
       "    <tr style=\"text-align: right;\">\n",
       "      <th></th>\n",
       "      <th>sepal length (cm)</th>\n",
       "      <th>sepal width (cm)</th>\n",
       "      <th>petal length (cm)</th>\n",
       "      <th>petal width (cm)</th>\n",
       "    </tr>\n",
       "  </thead>\n",
       "  <tbody>\n",
       "    <tr>\n",
       "      <th>0</th>\n",
       "      <td>5.1</td>\n",
       "      <td>3.5</td>\n",
       "      <td>1.4</td>\n",
       "      <td>0.2</td>\n",
       "    </tr>\n",
       "    <tr>\n",
       "      <th>1</th>\n",
       "      <td>4.9</td>\n",
       "      <td>3.0</td>\n",
       "      <td>1.4</td>\n",
       "      <td>0.2</td>\n",
       "    </tr>\n",
       "    <tr>\n",
       "      <th>2</th>\n",
       "      <td>4.7</td>\n",
       "      <td>3.2</td>\n",
       "      <td>1.3</td>\n",
       "      <td>0.2</td>\n",
       "    </tr>\n",
       "    <tr>\n",
       "      <th>3</th>\n",
       "      <td>4.6</td>\n",
       "      <td>3.1</td>\n",
       "      <td>1.5</td>\n",
       "      <td>0.2</td>\n",
       "    </tr>\n",
       "    <tr>\n",
       "      <th>4</th>\n",
       "      <td>5.0</td>\n",
       "      <td>3.6</td>\n",
       "      <td>1.4</td>\n",
       "      <td>0.2</td>\n",
       "    </tr>\n",
       "  </tbody>\n",
       "</table>\n",
       "</div>"
      ],
      "text/plain": [
       "   sepal length (cm)  sepal width (cm)  petal length (cm)  petal width (cm)\n",
       "0                5.1               3.5                1.4               0.2\n",
       "1                4.9               3.0                1.4               0.2\n",
       "2                4.7               3.2                1.3               0.2\n",
       "3                4.6               3.1                1.5               0.2\n",
       "4                5.0               3.6                1.4               0.2"
      ]
     },
     "execution_count": 5,
     "metadata": {},
     "output_type": "execute_result"
    }
   ],
   "source": [
    "df.head()"
   ]
  },
  {
   "cell_type": "code",
   "execution_count": 6,
   "metadata": {
    "collapsed": false,
    "deletable": true,
    "editable": true
   },
   "outputs": [
    {
     "data": {
      "text/html": [
       "<div>\n",
       "<style>\n",
       "    .dataframe thead tr:only-child th {\n",
       "        text-align: right;\n",
       "    }\n",
       "\n",
       "    .dataframe thead th {\n",
       "        text-align: left;\n",
       "    }\n",
       "\n",
       "    .dataframe tbody tr th {\n",
       "        vertical-align: top;\n",
       "    }\n",
       "</style>\n",
       "<table border=\"1\" class=\"dataframe\">\n",
       "  <thead>\n",
       "    <tr style=\"text-align: right;\">\n",
       "      <th></th>\n",
       "      <th>sepal length (cm)</th>\n",
       "      <th>sepal width (cm)</th>\n",
       "      <th>petal length (cm)</th>\n",
       "      <th>petal width (cm)</th>\n",
       "    </tr>\n",
       "  </thead>\n",
       "  <tbody>\n",
       "    <tr>\n",
       "      <th>0</th>\n",
       "      <td>5.1</td>\n",
       "      <td>3.5</td>\n",
       "      <td>1.4</td>\n",
       "      <td>0.2</td>\n",
       "    </tr>\n",
       "    <tr>\n",
       "      <th>1</th>\n",
       "      <td>4.9</td>\n",
       "      <td>3.0</td>\n",
       "      <td>1.4</td>\n",
       "      <td>0.2</td>\n",
       "    </tr>\n",
       "    <tr>\n",
       "      <th>2</th>\n",
       "      <td>4.7</td>\n",
       "      <td>3.2</td>\n",
       "      <td>1.3</td>\n",
       "      <td>0.2</td>\n",
       "    </tr>\n",
       "    <tr>\n",
       "      <th>3</th>\n",
       "      <td>4.6</td>\n",
       "      <td>3.1</td>\n",
       "      <td>1.5</td>\n",
       "      <td>0.2</td>\n",
       "    </tr>\n",
       "    <tr>\n",
       "      <th>4</th>\n",
       "      <td>5.0</td>\n",
       "      <td>3.6</td>\n",
       "      <td>1.4</td>\n",
       "      <td>0.2</td>\n",
       "    </tr>\n",
       "  </tbody>\n",
       "</table>\n",
       "</div>"
      ],
      "text/plain": [
       "   sepal length (cm)  sepal width (cm)  petal length (cm)  petal width (cm)\n",
       "0                5.1               3.5                1.4               0.2\n",
       "1                4.9               3.0                1.4               0.2\n",
       "2                4.7               3.2                1.3               0.2\n",
       "3                4.6               3.1                1.5               0.2\n",
       "4                5.0               3.6                1.4               0.2"
      ]
     },
     "execution_count": 6,
     "metadata": {},
     "output_type": "execute_result"
    }
   ],
   "source": []
  },
  {
   "cell_type": "markdown",
   "metadata": {
    "deletable": true,
    "editable": true
   },
   "source": [
    "**import `StandardScaler` and create its instance.** "
   ]
  },
  {
   "cell_type": "code",
   "execution_count": 69,
   "metadata": {
    "collapsed": true,
    "deletable": true,
    "editable": true
   },
   "outputs": [],
   "source": [
    "#Code here please\n",
    "from sklearn.preprocessing import StandardScaler\n",
    "sc = StandardScaler()"
   ]
  },
  {
   "cell_type": "code",
   "execution_count": 8,
   "metadata": {
    "collapsed": true,
    "deletable": true,
    "editable": true
   },
   "outputs": [],
   "source": []
  },
  {
   "cell_type": "markdown",
   "metadata": {
    "collapsed": true,
    "deletable": true,
    "editable": true
   },
   "source": [
    "**Fit the scaler to the features in your data.**"
   ]
  },
  {
   "cell_type": "code",
   "execution_count": 70,
   "metadata": {
    "collapsed": false,
    "deletable": true,
    "editable": true
   },
   "outputs": [
    {
     "data": {
      "text/plain": [
       "StandardScaler(copy=True, with_mean=True, with_std=True)"
      ]
     },
     "execution_count": 70,
     "metadata": {},
     "output_type": "execute_result"
    }
   ],
   "source": [
    "#Code here please\n",
    "sc.fit(df)"
   ]
  },
  {
   "cell_type": "code",
   "execution_count": 10,
   "metadata": {
    "collapsed": false,
    "deletable": true,
    "editable": true
   },
   "outputs": [
    {
     "data": {
      "text/plain": [
       "StandardScaler(copy=True, with_mean=True, with_std=True)"
      ]
     },
     "execution_count": 10,
     "metadata": {},
     "output_type": "execute_result"
    }
   ],
   "source": []
  },
  {
   "cell_type": "markdown",
   "metadata": {
    "deletable": true,
    "editable": true
   },
   "source": [
    "**Please transform the dataset to the scaled data.**"
   ]
  },
  {
   "cell_type": "code",
   "execution_count": 71,
   "metadata": {
    "collapsed": true,
    "deletable": true,
    "editable": true
   },
   "outputs": [],
   "source": [
    "#Code here please\n",
    "df_scaled = sc.transform(df)"
   ]
  },
  {
   "cell_type": "code",
   "execution_count": 12,
   "metadata": {
    "collapsed": true,
    "deletable": true,
    "editable": true
   },
   "outputs": [],
   "source": []
  },
  {
   "cell_type": "markdown",
   "metadata": {
    "collapsed": true,
    "deletable": true,
    "editable": true
   },
   "source": [
    "### Principal Component Analysis -- PCA\n",
    "**import PCA and create its instance, what shoud we do if we are interested in only first 2 components?**"
   ]
  },
  {
   "cell_type": "code",
   "execution_count": 72,
   "metadata": {
    "collapsed": true,
    "deletable": true,
    "editable": true
   },
   "outputs": [],
   "source": [
    "#Code here please\n",
    "from sklearn.decomposition import PCA"
   ]
  },
  {
   "cell_type": "code",
   "execution_count": 73,
   "metadata": {
    "collapsed": true
   },
   "outputs": [],
   "source": [
    "pca = PCA(n_components=2)"
   ]
  },
  {
   "cell_type": "code",
   "execution_count": 14,
   "metadata": {
    "collapsed": true,
    "deletable": true,
    "editable": true
   },
   "outputs": [],
   "source": []
  },
  {
   "cell_type": "markdown",
   "metadata": {
    "deletable": true,
    "editable": true
   },
   "source": [
    "**Fit the object to scaled data** "
   ]
  },
  {
   "cell_type": "code",
   "execution_count": 74,
   "metadata": {
    "collapsed": false,
    "deletable": true,
    "editable": true
   },
   "outputs": [
    {
     "data": {
      "text/plain": [
       "PCA(copy=True, iterated_power='auto', n_components=2, random_state=None,\n",
       "  svd_solver='auto', tol=0.0, whiten=False)"
      ]
     },
     "execution_count": 74,
     "metadata": {},
     "output_type": "execute_result"
    }
   ],
   "source": [
    "#Code here please\n",
    "pca.fit(df_scaled)"
   ]
  },
  {
   "cell_type": "code",
   "execution_count": 16,
   "metadata": {
    "collapsed": false,
    "deletable": true,
    "editable": true
   },
   "outputs": [
    {
     "data": {
      "text/plain": [
       "PCA(copy=True, iterated_power='auto', n_components=2, random_state=None,\n",
       "  svd_solver='auto', tol=0.0, whiten=False)"
      ]
     },
     "execution_count": 16,
     "metadata": {},
     "output_type": "execute_result"
    }
   ],
   "source": []
  },
  {
   "cell_type": "markdown",
   "metadata": {
    "collapsed": true,
    "deletable": true,
    "editable": true
   },
   "source": [
    "**Let's transform the data to its first 2 PCs.**"
   ]
  },
  {
   "cell_type": "code",
   "execution_count": 75,
   "metadata": {
    "collapsed": false,
    "deletable": true,
    "editable": true
   },
   "outputs": [
    {
     "data": {
      "text/plain": [
       "numpy.ndarray"
      ]
     },
     "execution_count": 75,
     "metadata": {},
     "output_type": "execute_result"
    }
   ],
   "source": [
    "#Code here please\n",
    "pc12 = pca.transform(df_scaled)\n",
    "type(pc12)"
   ]
  },
  {
   "cell_type": "code",
   "execution_count": 18,
   "metadata": {
    "collapsed": true,
    "deletable": true,
    "editable": true
   },
   "outputs": [],
   "source": []
  },
  {
   "cell_type": "markdown",
   "metadata": {
    "deletable": true,
    "editable": true
   },
   "source": [
    "**pc12 is a numpy array, let's create a dataframe, the data looks better in this way!** "
   ]
  },
  {
   "cell_type": "code",
   "execution_count": 77,
   "metadata": {
    "collapsed": false,
    "deletable": true,
    "editable": true
   },
   "outputs": [
    {
     "data": {
      "text/html": [
       "<div>\n",
       "<style>\n",
       "    .dataframe thead tr:only-child th {\n",
       "        text-align: right;\n",
       "    }\n",
       "\n",
       "    .dataframe thead th {\n",
       "        text-align: left;\n",
       "    }\n",
       "\n",
       "    .dataframe tbody tr th {\n",
       "        vertical-align: top;\n",
       "    }\n",
       "</style>\n",
       "<table border=\"1\" class=\"dataframe\">\n",
       "  <thead>\n",
       "    <tr style=\"text-align: right;\">\n",
       "      <th></th>\n",
       "      <th>PC1</th>\n",
       "      <th>PC2</th>\n",
       "    </tr>\n",
       "  </thead>\n",
       "  <tbody>\n",
       "    <tr>\n",
       "      <th>0</th>\n",
       "      <td>-2.264542</td>\n",
       "      <td>0.505704</td>\n",
       "    </tr>\n",
       "    <tr>\n",
       "      <th>1</th>\n",
       "      <td>-2.086426</td>\n",
       "      <td>-0.655405</td>\n",
       "    </tr>\n",
       "    <tr>\n",
       "      <th>2</th>\n",
       "      <td>-2.367950</td>\n",
       "      <td>-0.318477</td>\n",
       "    </tr>\n",
       "    <tr>\n",
       "      <th>3</th>\n",
       "      <td>-2.304197</td>\n",
       "      <td>-0.575368</td>\n",
       "    </tr>\n",
       "    <tr>\n",
       "      <th>4</th>\n",
       "      <td>-2.388777</td>\n",
       "      <td>0.674767</td>\n",
       "    </tr>\n",
       "  </tbody>\n",
       "</table>\n",
       "</div>"
      ],
      "text/plain": [
       "        PC1       PC2\n",
       "0 -2.264542  0.505704\n",
       "1 -2.086426 -0.655405\n",
       "2 -2.367950 -0.318477\n",
       "3 -2.304197 -0.575368\n",
       "4 -2.388777  0.674767"
      ]
     },
     "execution_count": 77,
     "metadata": {},
     "output_type": "execute_result"
    }
   ],
   "source": [
    "#Code here please\n",
    "df_pc= pd.DataFrame(data = pc12, columns=['PC1','PC2'])\n",
    "df_pc.head()"
   ]
  },
  {
   "cell_type": "code",
   "execution_count": 20,
   "metadata": {
    "collapsed": false,
    "deletable": true,
    "editable": true
   },
   "outputs": [
    {
     "data": {
      "text/html": [
       "<div>\n",
       "<style>\n",
       "    .dataframe thead tr:only-child th {\n",
       "        text-align: right;\n",
       "    }\n",
       "\n",
       "    .dataframe thead th {\n",
       "        text-align: left;\n",
       "    }\n",
       "\n",
       "    .dataframe tbody tr th {\n",
       "        vertical-align: top;\n",
       "    }\n",
       "</style>\n",
       "<table border=\"1\" class=\"dataframe\">\n",
       "  <thead>\n",
       "    <tr style=\"text-align: right;\">\n",
       "      <th></th>\n",
       "      <th>PC1</th>\n",
       "      <th>PC2</th>\n",
       "    </tr>\n",
       "  </thead>\n",
       "  <tbody>\n",
       "    <tr>\n",
       "      <th>0</th>\n",
       "      <td>-2.264542</td>\n",
       "      <td>0.505704</td>\n",
       "    </tr>\n",
       "    <tr>\n",
       "      <th>1</th>\n",
       "      <td>-2.086426</td>\n",
       "      <td>-0.655405</td>\n",
       "    </tr>\n",
       "    <tr>\n",
       "      <th>2</th>\n",
       "      <td>-2.367950</td>\n",
       "      <td>-0.318477</td>\n",
       "    </tr>\n",
       "    <tr>\n",
       "      <th>3</th>\n",
       "      <td>-2.304197</td>\n",
       "      <td>-0.575368</td>\n",
       "    </tr>\n",
       "    <tr>\n",
       "      <th>4</th>\n",
       "      <td>-2.388777</td>\n",
       "      <td>0.674767</td>\n",
       "    </tr>\n",
       "  </tbody>\n",
       "</table>\n",
       "</div>"
      ],
      "text/plain": [
       "        PC1       PC2\n",
       "0 -2.264542  0.505704\n",
       "1 -2.086426 -0.655405\n",
       "2 -2.367950 -0.318477\n",
       "3 -2.304197 -0.575368\n",
       "4 -2.388777  0.674767"
      ]
     },
     "execution_count": 20,
     "metadata": {},
     "output_type": "execute_result"
    }
   ],
   "source": []
  },
  {
   "cell_type": "markdown",
   "metadata": {
    "deletable": true,
    "editable": true
   },
   "source": [
    "**Please recreate the plot below**"
   ]
  },
  {
   "cell_type": "code",
   "execution_count": 78,
   "metadata": {
    "collapsed": false,
    "deletable": true,
    "editable": true
   },
   "outputs": [
    {
     "data": {
      "text/plain": [
       "<matplotlib.text.Text at 0x135b13806d8>"
      ]
     },
     "execution_count": 78,
     "metadata": {},
     "output_type": "execute_result"
    },
    {
     "data": {
      "image/png": "[encoded data removed]",
      "text/plain": [
       "<matplotlib.figure.Figure at 0x135b136aac8>"
      ]
     },
     "metadata": {},
     "output_type": "display_data"
    }
   ],
   "source": [
    "#Code here please\n",
    "plt.figure(figsize=(9,8))\n",
    "plt.scatter(x = df_pc['PC1'], y = df_pc['PC2'],c=iris['target'],cmap = 'Set1')\n",
    "plt.xlabel('First principle component PC1')\n",
    "plt.ylabel('Second principle component PC2')"
   ]
  },
  {
   "cell_type": "code",
   "execution_count": 22,
   "metadata": {
    "collapsed": false,
    "deletable": true,
    "editable": true
   },
   "outputs": [
    {
     "data": {
      "text/plain": [
       "<matplotlib.text.Text at 0x11d7eaac8>"
      ]
     },
     "execution_count": 22,
     "metadata": {},
     "output_type": "execute_result"
    },
    {
     "data": {
      "image/png": "[encoded data removed]",
      "text/plain": [
       "<matplotlib.figure.Figure at 0x11d7a8a20>"
      ]
     },
     "metadata": {},
     "output_type": "display_data"
    }
   ],
   "source": []
  },
  {
   "cell_type": "markdown",
   "metadata": {
    "collapsed": true,
    "deletable": true,
    "editable": true
   },
   "source": [
    "**How to get the components, create a dataframe and output its head.**"
   ]
  },
  {
   "cell_type": "code",
   "execution_count": 79,
   "metadata": {
    "collapsed": false,
    "deletable": true,
    "editable": true
   },
   "outputs": [
    {
     "data": {
      "text/html": [
       "<div>\n",
       "<style>\n",
       "    .dataframe thead tr:only-child th {\n",
       "        text-align: right;\n",
       "    }\n",
       "\n",
       "    .dataframe thead th {\n",
       "        text-align: left;\n",
       "    }\n",
       "\n",
       "    .dataframe tbody tr th {\n",
       "        vertical-align: top;\n",
       "    }\n",
       "</style>\n",
       "<table border=\"1\" class=\"dataframe\">\n",
       "  <thead>\n",
       "    <tr style=\"text-align: right;\">\n",
       "      <th></th>\n",
       "      <th>sepal length (cm)</th>\n",
       "      <th>sepal width (cm)</th>\n",
       "      <th>petal length (cm)</th>\n",
       "      <th>petal width (cm)</th>\n",
       "    </tr>\n",
       "  </thead>\n",
       "  <tbody>\n",
       "    <tr>\n",
       "      <th>0</th>\n",
       "      <td>0.522372</td>\n",
       "      <td>-0.263355</td>\n",
       "      <td>0.581254</td>\n",
       "      <td>0.565611</td>\n",
       "    </tr>\n",
       "    <tr>\n",
       "      <th>1</th>\n",
       "      <td>0.372318</td>\n",
       "      <td>0.925556</td>\n",
       "      <td>0.021095</td>\n",
       "      <td>0.065416</td>\n",
       "    </tr>\n",
       "  </tbody>\n",
       "</table>\n",
       "</div>"
      ],
      "text/plain": [
       "   sepal length (cm)  sepal width (cm)  petal length (cm)  petal width (cm)\n",
       "0           0.522372         -0.263355           0.581254          0.565611\n",
       "1           0.372318          0.925556           0.021095          0.065416"
      ]
     },
     "execution_count": 79,
     "metadata": {},
     "output_type": "execute_result"
    }
   ],
   "source": [
    "#Code here please\n",
    "pca.components_\n",
    "df_pca_component = pd.DataFrame(data = pca.components_, columns=iris['feature_names'])\n",
    "df_pca_component"
   ]
  },
  {
   "cell_type": "code",
   "execution_count": 24,
   "metadata": {
    "collapsed": false,
    "deletable": true,
    "editable": true
   },
   "outputs": [
    {
     "data": {
      "text/html": [
       "<div>\n",
       "<style>\n",
       "    .dataframe thead tr:only-child th {\n",
       "        text-align: right;\n",
       "    }\n",
       "\n",
       "    .dataframe thead th {\n",
       "        text-align: left;\n",
       "    }\n",
       "\n",
       "    .dataframe tbody tr th {\n",
       "        vertical-align: top;\n",
       "    }\n",
       "</style>\n",
       "<table border=\"1\" class=\"dataframe\">\n",
       "  <thead>\n",
       "    <tr style=\"text-align: right;\">\n",
       "      <th></th>\n",
       "      <th>sepal length (cm)</th>\n",
       "      <th>sepal width (cm)</th>\n",
       "      <th>petal length (cm)</th>\n",
       "      <th>petal width (cm)</th>\n",
       "    </tr>\n",
       "  </thead>\n",
       "  <tbody>\n",
       "    <tr>\n",
       "      <th>0</th>\n",
       "      <td>0.522372</td>\n",
       "      <td>-0.263355</td>\n",
       "      <td>0.581254</td>\n",
       "      <td>0.565611</td>\n",
       "    </tr>\n",
       "    <tr>\n",
       "      <th>1</th>\n",
       "      <td>0.372318</td>\n",
       "      <td>0.925556</td>\n",
       "      <td>0.021095</td>\n",
       "      <td>0.065416</td>\n",
       "    </tr>\n",
       "  </tbody>\n",
       "</table>\n",
       "</div>"
      ],
      "text/plain": [
       "   sepal length (cm)  sepal width (cm)  petal length (cm)  petal width (cm)\n",
       "0           0.522372         -0.263355           0.581254          0.565611\n",
       "1           0.372318          0.925556           0.021095          0.065416"
      ]
     },
     "execution_count": 24,
     "metadata": {},
     "output_type": "execute_result"
    }
   ],
   "source": []
  },
  {
   "cell_type": "markdown",
   "metadata": {
    "deletable": true,
    "editable": true
   },
   "source": [
    "**Please recreate the plot below.**"
   ]
  },
  {
   "cell_type": "code",
   "execution_count": 80,
   "metadata": {
    "collapsed": false,
    "deletable": true,
    "editable": true
   },
   "outputs": [
    {
     "data": {
      "text/plain": [
       "<matplotlib.axes._subplots.AxesSubplot at 0x135b138aa58>"
      ]
     },
     "execution_count": 80,
     "metadata": {},
     "output_type": "execute_result"
    },
    {
     "data": {
      "image/png": "[encoded data removed]",
      "text/plain": [
       "<matplotlib.figure.Figure at 0x135b13d1e48>"
      ]
     },
     "metadata": {},
     "output_type": "display_data"
    }
   ],
   "source": [
    "#Code here please\n",
    "plt.figure(figsize=(12,5))\n",
    "sns.heatmap(data = df_pca_component,cmap='rainbow')"
   ]
  },
  {
   "cell_type": "code",
   "execution_count": 26,
   "metadata": {
    "collapsed": false,
    "deletable": true,
    "editable": true
   },
   "outputs": [
    {
     "data": {
      "text/plain": [
       "<matplotlib.axes._subplots.AxesSubplot at 0x11da3d9b0>"
      ]
     },
     "execution_count": 26,
     "metadata": {},
     "output_type": "execute_result"
    },
    {
     "data": {
      "image/png": "[encoded data removed]",
      "text/plain": [
       "<matplotlib.figure.Figure at 0x11d8785f8>"
      ]
     },
     "metadata": {},
     "output_type": "display_data"
    }
   ],
   "source": []
  },
  {
   "cell_type": "markdown",
   "metadata": {
    "collapsed": true,
    "deletable": true,
    "editable": true
   },
   "source": [
    "## SVM on Principal Components\n",
    "**Separate features and target classes and do the train test split** "
   ]
  },
  {
   "cell_type": "code",
   "execution_count": 81,
   "metadata": {
    "collapsed": false,
    "deletable": true,
    "editable": true
   },
   "outputs": [],
   "source": [
    "#Code here please\n",
    "X=df_pc\n",
    "y = iris['target']\n",
    "from sklearn.model_selection import train_test_split\n",
    "X_train, X_test, y_train, y_test = train_test_split(X, y, test_size=0.30, random_state=42)"
   ]
  },
  {
   "cell_type": "code",
   "execution_count": null,
   "metadata": {
    "collapsed": true
   },
   "outputs": [],
   "source": []
  },
  {
   "cell_type": "code",
   "execution_count": 83,
   "metadata": {
    "collapsed": false,
    "deletable": true,
    "editable": true
   },
   "outputs": [],
   "source": [
    "#Separating features and target values \n",
    "X = df_pc\n",
    "y = iris['target']\n",
    "#Train-test split\n",
    "from sklearn.model_selection import train_test_split\n",
    "X_train, X_test, y_train, y_test = train_test_split(\n",
    "    X, y, test_size=0.30, random_state=42)"
   ]
  },
  {
   "cell_type": "markdown",
   "metadata": {
    "deletable": true,
    "editable": true
   },
   "source": [
    "**Import SVC create its instance **"
   ]
  },
  {
   "cell_type": "code",
   "execution_count": 86,
   "metadata": {
    "collapsed": false,
    "deletable": true,
    "editable": true
   },
   "outputs": [
    {
     "data": {
      "text/plain": [
       "SVC(C=10.0, cache_size=200, class_weight=None, coef0=0.0,\n",
       "  decision_function_shape='ovr', degree=3, gamma=0.1, kernel='rbf',\n",
       "  max_iter=-1, probability=False, random_state=None, shrinking=True,\n",
       "  tol=0.001, verbose=False)"
      ]
     },
     "execution_count": 86,
     "metadata": {},
     "output_type": "execute_result"
    }
   ],
   "source": [
    "#Code here please\n",
    "from sklearn.svm import SVC\n",
    "svm_m = SVC(C = 10.0, gamma = 0.1)\n",
    "svm_m.fit(X_train,y_train)"
   ]
  },
  {
   "cell_type": "code",
   "execution_count": 50,
   "metadata": {
    "collapsed": true
   },
   "outputs": [],
   "source": [
    "from sklearn.grid_search import GridSearchCV"
   ]
  },
  {
   "cell_type": "code",
   "execution_count": 51,
   "metadata": {
    "collapsed": true
   },
   "outputs": [],
   "source": [
    "param_grid={'C':[1.0,10.0,100.0,1000.0],\n",
    "            'gamma':[0.1,0.01,0.001,0.0001]}\n"
   ]
  },
  {
   "cell_type": "code",
   "execution_count": 52,
   "metadata": {
    "collapsed": false
   },
   "outputs": [],
   "source": [
    "svm_grid = GridSearchCV(estimator = SVC(), param_grid=param_grid,verbose=2)"
   ]
  },
  {
   "cell_type": "code",
   "execution_count": 53,
   "metadata": {
    "collapsed": false
   },
   "outputs": [
    {
     "name": "stdout",
     "output_type": "stream",
     "text": [
      "Fitting 3 folds for each of 16 candidates, totalling 48 fits\n",
      "[CV] gamma=0.1, C=1.0 ................................................\n",
      "[CV] ....................................... gamma=0.1, C=1.0 -   0.0s\n",
      "[CV] gamma=0.1, C=1.0 ................................................\n",
      "[CV] ....................................... gamma=0.1, C=1.0 -   0.0s\n",
      "[CV] gamma=0.1, C=1.0 ................................................\n",
      "[CV] ....................................... gamma=0.1, C=1.0 -   0.0s\n",
      "[CV] gamma=0.01, C=1.0 ...............................................\n",
      "[CV] ...................................... gamma=0.01, C=1.0 -   0.0s\n",
      "[CV] gamma=0.01, C=1.0 ...............................................\n",
      "[CV] ...................................... gamma=0.01, C=1.0 -   0.0s\n",
      "[CV] gamma=0.01, C=1.0 ...............................................\n",
      "[CV] ...................................... gamma=0.01, C=1.0 -   0.0s\n",
      "[CV] gamma=0.001, C=1.0 ..............................................\n",
      "[CV] ..................................... gamma=0.001, C=1.0 -   0.0s\n",
      "[CV] gamma=0.001, C=1.0 ..............................................\n",
      "[CV] ..................................... gamma=0.001, C=1.0 -   0.0s\n",
      "[CV] gamma=0.001, C=1.0 ..............................................\n",
      "[CV] ..................................... gamma=0.001, C=1.0 -   0.0s\n",
      "[CV] gamma=0.0001, C=1.0 .............................................\n",
      "[CV] .................................... gamma=0.0001, C=1.0 -   0.0s\n",
      "[CV] gamma=0.0001, C=1.0 .............................................\n",
      "[CV] .................................... gamma=0.0001, C=1.0 -   0.0s\n",
      "[CV] gamma=0.0001, C=1.0 .............................................\n",
      "[CV] .................................... gamma=0.0001, C=1.0 -   0.0s\n",
      "[CV] gamma=0.1, C=10.0 ...............................................\n",
      "[CV] ...................................... gamma=0.1, C=10.0 -   0.0s\n",
      "[CV] gamma=0.1, C=10.0 ...............................................\n",
      "[CV] ...................................... gamma=0.1, C=10.0 -   0.0s\n",
      "[CV] gamma=0.1, C=10.0 ...............................................\n",
      "[CV] ...................................... gamma=0.1, C=10.0 -   0.0s\n",
      "[CV] gamma=0.01, C=10.0 ..............................................\n",
      "[CV] ..................................... gamma=0.01, C=10.0 -   0.0s\n",
      "[CV] gamma=0.01, C=10.0 ..............................................\n",
      "[CV] ..................................... gamma=0.01, C=10.0 -   0.0s\n",
      "[CV] gamma=0.01, C=10.0 ..............................................\n",
      "[CV] ..................................... gamma=0.01, C=10.0 -   0.0s\n",
      "[CV] gamma=0.001, C=10.0 .............................................\n",
      "[CV] .................................... gamma=0.001, C=10.0 -   0.0s\n",
      "[CV] gamma=0.001, C=10.0 .............................................\n",
      "[CV] .................................... gamma=0.001, C=10.0 -   0.0s\n",
      "[CV] gamma=0.001, C=10.0 .............................................\n",
      "[CV] .................................... gamma=0.001, C=10.0 -   0.0s\n",
      "[CV] gamma=0.0001, C=10.0 ............................................\n",
      "[CV] ................................... gamma=0.0001, C=10.0 -   0.0s\n",
      "[CV] gamma=0.0001, C=10.0 ............................................\n",
      "[CV] ................................... gamma=0.0001, C=10.0 -   0.0s\n",
      "[CV] gamma=0.0001, C=10.0 ............................................\n",
      "[CV] ................................... gamma=0.0001, C=10.0 -   0.0s\n",
      "[CV] gamma=0.1, C=100.0 ..............................................\n",
      "[CV] ..................................... gamma=0.1, C=100.0 -   0.0s\n",
      "[CV] gamma=0.1, C=100.0 ..............................................\n",
      "[CV] ..................................... gamma=0.1, C=100.0 -   0.0s\n",
      "[CV] gamma=0.1, C=100.0 ..............................................\n",
      "[CV] ..................................... gamma=0.1, C=100.0 -   0.0s\n",
      "[CV] gamma=0.01, C=100.0 .............................................\n",
      "[CV] .................................... gamma=0.01, C=100.0 -   0.0s\n",
      "[CV] gamma=0.01, C=100.0 .............................................\n",
      "[CV] .................................... gamma=0.01, C=100.0 -   0.0s\n",
      "[CV] gamma=0.01, C=100.0 .............................................\n",
      "[CV] .................................... gamma=0.01, C=100.0 -   0.0s\n",
      "[CV] gamma=0.001, C=100.0 ............................................\n",
      "[CV] ................................... gamma=0.001, C=100.0 -   0.0s\n",
      "[CV] gamma=0.001, C=100.0 ............................................\n",
      "[CV] ................................... gamma=0.001, C=100.0 -   0.0s\n",
      "[CV] gamma=0.001, C=100.0 ............................................\n",
      "[CV] ................................... gamma=0.001, C=100.0 -   0.0s\n",
      "[CV] gamma=0.0001, C=100.0 ...........................................\n",
      "[CV] .................................. gamma=0.0001, C=100.0 -   0.0s\n",
      "[CV] gamma=0.0001, C=100.0 ...........................................\n",
      "[CV] .................................. gamma=0.0001, C=100.0 -   0.0s\n",
      "[CV] gamma=0.0001, C=100.0 ...........................................\n",
      "[CV] .................................. gamma=0.0001, C=100.0 -   0.0s\n",
      "[CV] gamma=0.1, C=1000.0 .............................................\n",
      "[CV] .................................... gamma=0.1, C=1000.0 -   0.0s\n",
      "[CV] gamma=0.1, C=1000.0 .............................................\n",
      "[CV] .................................... gamma=0.1, C=1000.0 -   0.0s\n",
      "[CV] gamma=0.1, C=1000.0 .............................................\n",
      "[CV] .................................... gamma=0.1, C=1000.0 -   0.0s\n",
      "[CV] gamma=0.01, C=1000.0 ............................................\n",
      "[CV] ................................... gamma=0.01, C=1000.0 -   0.0s\n",
      "[CV] gamma=0.01, C=1000.0 ............................................\n",
      "[CV] ................................... gamma=0.01, C=1000.0 -   0.0s\n",
      "[CV] gamma=0.01, C=1000.0 ............................................\n",
      "[CV] ................................... gamma=0.01, C=1000.0 -   0.0s\n",
      "[CV] gamma=0.001, C=1000.0 ...........................................\n",
      "[CV] .................................. gamma=0.001, C=1000.0 -   0.0s\n",
      "[CV] gamma=0.001, C=1000.0 ...........................................\n",
      "[CV] .................................. gamma=0.001, C=1000.0 -   0.0s\n",
      "[CV] gamma=0.001, C=1000.0 ...........................................\n",
      "[CV] .................................. gamma=0.001, C=1000.0 -   0.0s\n",
      "[CV] gamma=0.0001, C=1000.0 ..........................................\n",
      "[CV] ................................. gamma=0.0001, C=1000.0 -   0.0s\n",
      "[CV] gamma=0.0001, C=1000.0 ..........................................\n",
      "[CV] ................................. gamma=0.0001, C=1000.0 -   0.0s\n"
     ]
    },
    {
     "name": "stderr",
     "output_type": "stream",
     "text": [
      "[Parallel(n_jobs=1)]: Done   1 out of   1 | elapsed:    0.0s remaining:    0.0s\n"
     ]
    },
    {
     "name": "stdout",
     "output_type": "stream",
     "text": [
      "[CV] gamma=0.0001, C=1000.0 ..........................................\n",
      "[CV] ................................. gamma=0.0001, C=1000.0 -   0.0s\n"
     ]
    },
    {
     "name": "stderr",
     "output_type": "stream",
     "text": [
      "[Parallel(n_jobs=1)]: Done  48 out of  48 | elapsed:    0.1s finished\n"
     ]
    },
    {
     "data": {
      "text/plain": [
       "GridSearchCV(cv=None, error_score='raise',\n",
       "       estimator=SVC(C=1.0, cache_size=200, class_weight=None, coef0=0.0,\n",
       "  decision_function_shape='ovr', degree=3, gamma='auto', kernel='rbf',\n",
       "  max_iter=-1, probability=False, random_state=None, shrinking=True,\n",
       "  tol=0.001, verbose=False),\n",
       "       fit_params={}, iid=True, n_jobs=1,\n",
       "       param_grid={'gamma': [0.1, 0.01, 0.001, 0.0001], 'C': [1.0, 10.0, 100.0, 1000.0]},\n",
       "       pre_dispatch='2*n_jobs', refit=True, scoring=None, verbose=2)"
      ]
     },
     "execution_count": 53,
     "metadata": {},
     "output_type": "execute_result"
    }
   ],
   "source": [
    "svm_grid.fit(X_train,y_train)\n"
   ]
  },
  {
   "cell_type": "code",
   "execution_count": 54,
   "metadata": {
    "collapsed": false
   },
   "outputs": [
    {
     "data": {
      "text/plain": [
       "{'C': 10.0, 'gamma': 0.1}"
      ]
     },
     "execution_count": 54,
     "metadata": {},
     "output_type": "execute_result"
    }
   ],
   "source": [
    "svm_grid.best_params_"
   ]
  },
  {
   "cell_type": "markdown",
   "metadata": {
    "deletable": true,
    "editable": true
   },
   "source": [
    "**Train your model**"
   ]
  },
  {
   "cell_type": "code",
   "execution_count": 56,
   "metadata": {
    "collapsed": false,
    "deletable": true,
    "editable": true
   },
   "outputs": [
    {
     "data": {
      "text/plain": [
       "SVC(C=1.0, cache_size=200, class_weight=None, coef0=0.0,\n",
       "  decision_function_shape='ovr', degree=3, gamma='auto', kernel='rbf',\n",
       "  max_iter=-1, probability=False, random_state=None, shrinking=True,\n",
       "  tol=0.001, verbose=False)"
      ]
     },
     "execution_count": 56,
     "metadata": {},
     "output_type": "execute_result"
    }
   ],
   "source": [
    "#Code here please\n",
    "svm_m.fit(X_train,y_train)"
   ]
  },
  {
   "cell_type": "code",
   "execution_count": 65,
   "metadata": {
    "collapsed": false
   },
   "outputs": [
    {
     "data": {
      "text/plain": [
       "{'C': 10.0, 'gamma': 0.1}"
      ]
     },
     "execution_count": 65,
     "metadata": {},
     "output_type": "execute_result"
    }
   ],
   "source": [
    "svm_grid.best_params_"
   ]
  },
  {
   "cell_type": "code",
   "execution_count": 31,
   "metadata": {
    "collapsed": false,
    "deletable": true,
    "editable": true
   },
   "outputs": [
    {
     "data": {
      "text/plain": [
       "SVC(C=1.0, cache_size=200, class_weight=None, coef0=0.0,\n",
       "  decision_function_shape=None, degree=3, gamma='auto', kernel='rbf',\n",
       "  max_iter=-1, probability=False, random_state=None, shrinking=True,\n",
       "  tol=0.001, verbose=False)"
      ]
     },
     "execution_count": 31,
     "metadata": {},
     "output_type": "execute_result"
    }
   ],
   "source": []
  },
  {
   "cell_type": "markdown",
   "metadata": {
    "deletable": true,
    "editable": true
   },
   "source": [
    "** Do the predictions please ** "
   ]
  },
  {
   "cell_type": "code",
   "execution_count": 87,
   "metadata": {
    "collapsed": true,
    "deletable": true,
    "editable": true
   },
   "outputs": [],
   "source": [
    "#Code here please\n",
    "from sklearn.metrics import confusion_matrix,classification_report"
   ]
  },
  {
   "cell_type": "code",
   "execution_count": 88,
   "metadata": {
    "collapsed": true
   },
   "outputs": [],
   "source": [
    "y_perd = svm_m.predict(X_test)"
   ]
  },
  {
   "cell_type": "code",
   "execution_count": 62,
   "metadata": {
    "collapsed": false
   },
   "outputs": [
    {
     "name": "stdout",
     "output_type": "stream",
     "text": [
      "Fitting 3 folds for each of 16 candidates, totalling 48 fits\n",
      "[CV] gamma=0.1, C=1.0 ................................................\n",
      "[CV] ....................................... gamma=0.1, C=1.0 -   0.0s\n",
      "[CV] gamma=0.1, C=1.0 ................................................\n",
      "[CV] ....................................... gamma=0.1, C=1.0 -   0.0s\n",
      "[CV] gamma=0.1, C=1.0 ................................................\n",
      "[CV] ....................................... gamma=0.1, C=1.0 -   0.0s\n",
      "[CV] gamma=0.01, C=1.0 ...............................................\n",
      "[CV] ...................................... gamma=0.01, C=1.0 -   0.0s\n",
      "[CV] gamma=0.01, C=1.0 ...............................................\n",
      "[CV] ...................................... gamma=0.01, C=1.0 -   0.0s\n",
      "[CV] gamma=0.01, C=1.0 ...............................................\n",
      "[CV] ...................................... gamma=0.01, C=1.0 -   0.0s\n",
      "[CV] gamma=0.001, C=1.0 ..............................................\n",
      "[CV] ..................................... gamma=0.001, C=1.0 -   0.0s\n",
      "[CV] gamma=0.001, C=1.0 ..............................................\n",
      "[CV] ..................................... gamma=0.001, C=1.0 -   0.0s\n",
      "[CV] gamma=0.001, C=1.0 ..............................................\n",
      "[CV] ..................................... gamma=0.001, C=1.0 -   0.0s\n",
      "[CV] gamma=0.0001, C=1.0 .............................................\n",
      "[CV] .................................... gamma=0.0001, C=1.0 -   0.0s\n",
      "[CV] gamma=0.0001, C=1.0 .............................................\n",
      "[CV] .................................... gamma=0.0001, C=1.0 -   0.0s\n",
      "[CV] gamma=0.0001, C=1.0 .............................................\n",
      "[CV] .................................... gamma=0.0001, C=1.0 -   0.0s\n",
      "[CV] gamma=0.1, C=10.0 ...............................................\n",
      "[CV] ...................................... gamma=0.1, C=10.0 -   0.0s\n",
      "[CV] gamma=0.1, C=10.0 ...............................................\n",
      "[CV] ...................................... gamma=0.1, C=10.0 -   0.0s\n",
      "[CV] gamma=0.1, C=10.0 ...............................................\n",
      "[CV] ...................................... gamma=0.1, C=10.0 -   0.0s\n",
      "[CV] gamma=0.01, C=10.0 ..............................................\n",
      "[CV] ..................................... gamma=0.01, C=10.0 -   0.0s\n",
      "[CV] gamma=0.01, C=10.0 ..............................................\n",
      "[CV] ..................................... gamma=0.01, C=10.0 -   0.0s\n",
      "[CV] gamma=0.01, C=10.0 ..............................................\n",
      "[CV] ..................................... gamma=0.01, C=10.0 -   0.0s\n",
      "[CV] gamma=0.001, C=10.0 .............................................\n",
      "[CV] .................................... gamma=0.001, C=10.0 -   0.0s\n",
      "[CV] gamma=0.001, C=10.0 .............................................\n",
      "[CV] .................................... gamma=0.001, C=10.0 -   0.0s\n",
      "[CV] gamma=0.001, C=10.0 .............................................\n",
      "[CV] .................................... gamma=0.001, C=10.0 -   0.0s\n",
      "[CV] gamma=0.0001, C=10.0 ............................................\n",
      "[CV] ................................... gamma=0.0001, C=10.0 -   0.0s\n",
      "[CV] gamma=0.0001, C=10.0 ............................................\n",
      "[CV] ................................... gamma=0.0001, C=10.0 -   0.0s\n",
      "[CV] gamma=0.0001, C=10.0 ............................................\n",
      "[CV] ................................... gamma=0.0001, C=10.0 -   0.0s\n",
      "[CV] gamma=0.1, C=100.0 ..............................................\n",
      "[CV] ..................................... gamma=0.1, C=100.0 -   0.0s\n",
      "[CV] gamma=0.1, C=100.0 ..............................................\n",
      "[CV] ..................................... gamma=0.1, C=100.0 -   0.0s\n",
      "[CV] gamma=0.1, C=100.0 ..............................................\n",
      "[CV] ..................................... gamma=0.1, C=100.0 -   0.0s\n",
      "[CV] gamma=0.01, C=100.0 .............................................\n",
      "[CV] .................................... gamma=0.01, C=100.0 -   0.0s\n",
      "[CV] gamma=0.01, C=100.0 .............................................\n",
      "[CV] .................................... gamma=0.01, C=100.0 -   0.0s\n",
      "[CV] gamma=0.01, C=100.0 .............................................\n",
      "[CV] .................................... gamma=0.01, C=100.0 -   0.0s\n",
      "[CV] gamma=0.001, C=100.0 ............................................\n",
      "[CV] ................................... gamma=0.001, C=100.0 -   0.0s\n",
      "[CV] gamma=0.001, C=100.0 ............................................\n",
      "[CV] ................................... gamma=0.001, C=100.0 -   0.0s\n",
      "[CV] gamma=0.001, C=100.0 ............................................\n",
      "[CV] ................................... gamma=0.001, C=100.0 -   0.0s\n",
      "[CV] gamma=0.0001, C=100.0 ...........................................\n",
      "[CV] .................................. gamma=0.0001, C=100.0 -   0.0s\n",
      "[CV] gamma=0.0001, C=100.0 ...........................................\n",
      "[CV] .................................. gamma=0.0001, C=100.0 -   0.0s\n",
      "[CV] gamma=0.0001, C=100.0 ...........................................\n",
      "[CV] .................................. gamma=0.0001, C=100.0 -   0.0s\n",
      "[CV] gamma=0.1, C=1000.0 .............................................\n",
      "[CV] .................................... gamma=0.1, C=1000.0 -   0.0s\n",
      "[CV] gamma=0.1, C=1000.0 .............................................\n",
      "[CV] .................................... gamma=0.1, C=1000.0 -   0.0s\n",
      "[CV] gamma=0.1, C=1000.0 .............................................\n",
      "[CV] .................................... gamma=0.1, C=1000.0 -   0.0s\n",
      "[CV] gamma=0.01, C=1000.0 ............................................\n",
      "[CV] ................................... gamma=0.01, C=1000.0 -   0.0s\n",
      "[CV] gamma=0.01, C=1000.0 ............................................\n",
      "[CV] ................................... gamma=0.01, C=1000.0 -   0.0s\n",
      "[CV] gamma=0.01, C=1000.0 ............................................\n",
      "[CV] ................................... gamma=0.01, C=1000.0 -   0.0s\n",
      "[CV] gamma=0.001, C=1000.0 ...........................................\n",
      "[CV] .................................. gamma=0.001, C=1000.0 -   0.0s\n",
      "[CV] gamma=0.001, C=1000.0 ...........................................\n",
      "[CV] .................................. gamma=0.001, C=1000.0 -   0.0s\n",
      "[CV] gamma=0.001, C=1000.0 ...........................................\n",
      "[CV] .................................. gamma=0.001, C=1000.0 -   0.0s\n",
      "[CV] gamma=0.0001, C=1000.0 ..........................................\n",
      "[CV] ................................. gamma=0.0001, C=1000.0 -   0.0s\n",
      "[CV] gamma=0.0001, C=1000.0 ..........................................\n",
      "[CV] ................................. gamma=0.0001, C=1000.0 -   0.0s\n",
      "[CV] gamma=0.0001, C=1000.0 .........................................."
     ]
    },
    {
     "name": "stderr",
     "output_type": "stream",
     "text": [
      "[Parallel(n_jobs=1)]: Done   1 out of   1 | elapsed:    0.0s remaining:    0.0s\n"
     ]
    },
    {
     "name": "stdout",
     "output_type": "stream",
     "text": [
      "\n",
      "[CV] ................................. gamma=0.0001, C=1000.0 -   0.0s\n"
     ]
    },
    {
     "name": "stderr",
     "output_type": "stream",
     "text": [
      "[Parallel(n_jobs=1)]: Done  48 out of  48 | elapsed:    0.1s finished\n"
     ]
    },
    {
     "data": {
      "text/plain": [
       "GridSearchCV(cv=None, error_score='raise',\n",
       "       estimator=SVC(C=1.0, cache_size=200, class_weight=None, coef0=0.0,\n",
       "  decision_function_shape='ovr', degree=3, gamma='auto', kernel='rbf',\n",
       "  max_iter=-1, probability=False, random_state=None, shrinking=True,\n",
       "  tol=0.001, verbose=False),\n",
       "       fit_params={}, iid=True, n_jobs=1,\n",
       "       param_grid={'gamma': [0.1, 0.01, 0.001, 0.0001], 'C': [1.0, 10.0, 100.0, 1000.0]},\n",
       "       pre_dispatch='2*n_jobs', refit=True, scoring=None, verbose=2)"
      ]
     },
     "execution_count": 62,
     "metadata": {},
     "output_type": "execute_result"
    }
   ],
   "source": [
    "svm_grid.fit(X_train,y_train)"
   ]
  },
  {
   "cell_type": "code",
   "execution_count": 63,
   "metadata": {
    "collapsed": true
   },
   "outputs": [],
   "source": [
    "y_perd2 = svm_grid.predict(X_test)"
   ]
  },
  {
   "cell_type": "code",
   "execution_count": 64,
   "metadata": {
    "collapsed": false
   },
   "outputs": [
    {
     "name": "stdout",
     "output_type": "stream",
     "text": [
      "[[19  0  0]\n",
      " [ 0 11  2]\n",
      " [ 0  1 12]]\n",
      "             precision    recall  f1-score   support\n",
      "\n",
      "          0       1.00      1.00      1.00        19\n",
      "          1       0.92      0.85      0.88        13\n",
      "          2       0.86      0.92      0.89        13\n",
      "\n",
      "avg / total       0.93      0.93      0.93        45\n",
      "\n"
     ]
    }
   ],
   "source": [
    "print(confusion_matrix(y_test,y_perd2))\n",
    "print(classification_report(y_test,y_perd2))"
   ]
  },
  {
   "cell_type": "code",
   "execution_count": 33,
   "metadata": {
    "collapsed": true,
    "deletable": true,
    "editable": true
   },
   "outputs": [],
   "source": []
  },
  {
   "cell_type": "markdown",
   "metadata": {
    "deletable": true,
    "editable": true
   },
   "source": [
    "**Evaluation -- print Classification Report and Confusion Matrix** "
   ]
  },
  {
   "cell_type": "code",
   "execution_count": 89,
   "metadata": {
    "collapsed": false,
    "deletable": true,
    "editable": true
   },
   "outputs": [
    {
     "name": "stdout",
     "output_type": "stream",
     "text": [
      "[[19  0  0]\n",
      " [ 0 11  2]\n",
      " [ 0  1 12]]\n",
      "             precision    recall  f1-score   support\n",
      "\n",
      "          0       1.00      1.00      1.00        19\n",
      "          1       0.92      0.85      0.88        13\n",
      "          2       0.86      0.92      0.89        13\n",
      "\n",
      "avg / total       0.93      0.93      0.93        45\n",
      "\n"
     ]
    }
   ],
   "source": [
    "#Code here please\n",
    "print(confusion_matrix(y_test,y_perd))\n",
    "print(classification_report(y_test,y_perd))"
   ]
  },
  {
   "cell_type": "code",
   "execution_count": 35,
   "metadata": {
    "collapsed": false,
    "deletable": true,
    "editable": true,
    "scrolled": true
   },
   "outputs": [
    {
     "name": "stdout",
     "output_type": "stream",
     "text": [
      "             precision    recall  f1-score   support\n",
      "\n",
      "          0       1.00      1.00      1.00        19\n",
      "          1       0.92      0.85      0.88        13\n",
      "          2       0.86      0.92      0.89        13\n",
      "\n",
      "avg / total       0.93      0.93      0.93        45\n",
      "\n",
      "[[19  0  0]\n",
      " [ 0 11  2]\n",
      " [ 0  1 12]]\n"
     ]
    }
   ],
   "source": []
  },
  {
   "cell_type": "markdown",
   "metadata": {
    "collapsed": true,
    "deletable": true,
    "editable": true
   },
   "source": [
    "# Excellent work!\n",
    "I hope you enjoyed learning PCA. You have realized how powerful this statistical tool is for higher dimensional data. <br>\n",
    "The results above could be improved with the GridSearch to find out the best values for C and gamma. "
   ]
  }
 ],
 "metadata": {
  "kernelspec": {
   "display_name": "Python 3",
   "language": "python",
   "name": "python3"
  },
  "language_info": {
   "codemirror_mode": {
    "name": "ipython",
    "version": 3
   },
   "file_extension": ".py",
   "mimetype": "text/x-python",
   "name": "python",
   "nbconvert_exporter": "python",
   "pygments_lexer": "ipython3",
   "version": "3.5.2"
  }
 },
 "nbformat": 4,
 "nbformat_minor": 2
}
